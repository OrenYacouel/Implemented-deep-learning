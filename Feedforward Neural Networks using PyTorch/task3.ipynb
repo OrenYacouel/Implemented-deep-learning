{
 "cells": [
  {
   "cell_type": "code",
   "execution_count": 66,
   "metadata": {},
   "outputs": [],
   "source": [
    "import torch\n",
    "import torch.nn as nn\n",
    "import torchvision\n",
    "import torchvision.transforms as transforms\n",
    "import matplotlib.pyplot as plt\n",
    "import numpy as np\n",
    "from torch.utils.data import random_split\n"
   ]
  },
  {
   "cell_type": "code",
   "execution_count": 67,
   "metadata": {},
   "outputs": [],
   "source": [
    "\n",
    "# Setup device\n",
    "device = torch.device('cuda' if torch.cuda.is_available() else 'cpu')\n",
    "\n",
    "# Hyperparameters\n",
    "input_size = 784\n",
    "hidden_size = 500\n",
    "num_classes = 10\n",
    "num_epochs = 5\n",
    "batch_size =     100\n",
    "learning_rate = 0.001\n",
    "\n",
    "\n",
    "# Define subset sizes\n",
    "train_subset_size = 6000\n",
    "test_subset_size = 6000\n"
   ]
  },
  {
   "cell_type": "code",
   "execution_count": 68,
   "metadata": {},
   "outputs": [],
   "source": [
    "\n",
    "# Fully connected neural network\n",
    "class NeuralNet(nn.Module):\n",
    "    def __init__(self, input_size, hidden_size, num_classes):\n",
    "        super(NeuralNet, self).__init__()\n",
    "        self.fc1 = nn.Linear(input_size, hidden_size) \n",
    "        self.relu = nn.ReLU()\n",
    "        self.fc2 = nn.Linear(hidden_size, num_classes)  \n",
    "\n",
    "    def forward(self, x):\n",
    "        out = self.fc1(x)\n",
    "        out = self.relu(out)\n",
    "        out = self.fc2(out)\n",
    "        return out"
   ]
  },
  {
   "cell_type": "code",
   "execution_count": 69,
   "metadata": {},
   "outputs": [],
   "source": [
    "\n",
    "# MNIST dataset\n",
    "full_train_dataset = torchvision.datasets.MNIST(root='./data/',\n",
    "                                                train=True,\n",
    "                                                transform=transforms.ToTensor(),\n",
    "                                                download=True)\n",
    "full_test_dataset = torchvision.datasets.MNIST(root='./data/',\n",
    "                                               train=False,\n",
    "                                               transform=transforms.ToTensor())\n",
    "\n",
    "\n",
    "# Create subsets of train and test datasets\n",
    "train_subset = torch.utils.data.Subset(full_train_dataset, range(train_subset_size))\n",
    "test_subset = torch.utils.data.Subset(full_test_dataset, range(test_subset_size))\n",
    "\n",
    "train_dataset, val_dataset = random_split(train_subset, [5000, 1000])\n",
    "\n",
    "\n",
    "# Data loaders\n",
    "train_loader = torch.utils.data.DataLoader(dataset=train_dataset,\n",
    "                                            batch_size=batch_size,\n",
    "                                            shuffle=True)\n",
    "\n",
    "test_loader = torch.utils.data.DataLoader(dataset=full_test_dataset,\n",
    "                                            batch_size=batch_size,\n",
    "                                            shuffle=False)\n",
    "\n",
    "validation_loader = torch.utils.data.DataLoader(dataset=val_dataset,\n",
    "                                            batch_size=batch_size,\n",
    "                                            shuffle=True)\n"
   ]
  },
  {
   "cell_type": "code",
   "execution_count": null,
   "metadata": {},
   "outputs": [],
   "source": [
    "\n",
    "images, labels = test_loader.dataset[0]\n"
   ]
  },
  {
   "cell_type": "code",
   "execution_count": 75,
   "metadata": {},
   "outputs": [],
   "source": [
    "def train_and_val_by_seed(seeds, train_dataset=train_loader, val_dataset=validation_loader, test_dataset=test_loader):\n",
    "    seeds_val_errors = []\n",
    "    seeds_test_errors = []\n",
    "    for seed in seeds:\n",
    "        val_errors = []\n",
    "        test_errors = []\n",
    "\n",
    "        torch.manual_seed(seed)\n",
    "        \n",
    "        # Fully connected neural network\n",
    "        model = NeuralNet(input_size, hidden_size, num_classes).to(device)\n",
    "\n",
    "        criterion = nn.CrossEntropyLoss()\n",
    "        optimizer = torch.optim.Adam(model.parameters(), lr=learning_rate)\n",
    "\n",
    "        \n",
    "        # Train the model\n",
    "        for epoch in range(num_epochs):\n",
    "            # Train\n",
    "            for i, (images, labels) in enumerate(train_dataset):\n",
    "                images = images.reshape(-1, input_size).to(device)\n",
    "                labels = labels.to(device)\n",
    "\n",
    "                outputs = model(images)\n",
    "                loss = criterion(outputs, labels)\n",
    "\n",
    "                optimizer.zero_grad()\n",
    "                loss.backward()\n",
    "                optimizer.step()\n",
    "            \n",
    "            # Validate\n",
    "            val_loss = 0\n",
    "            with torch.no_grad():\n",
    "                for images, labels in val_dataset:\n",
    "                    images = images.reshape(-1, input_size).to(device)\n",
    "                    labels = labels.to(device)\n",
    "                    outputs = model(images)\n",
    "                    loss = criterion(outputs, labels)\n",
    "                    val_loss += loss.item()\n",
    "\n",
    "            val_loss /= len(val_dataset)\n",
    "            val_errors.append(val_loss)\n",
    "\n",
    "            \n",
    "            # Test\n",
    "            test_loss = 0\n",
    "            with torch.no_grad():\n",
    "                for images, labels in test_dataset:\n",
    "                    images = images.reshape(-1, input_size).to(device)\n",
    "                    labels = labels.to(device)\n",
    "                    outputs = model(images)\n",
    "                    loss = criterion(outputs, labels)\n",
    "                    test_loss += loss.item()\n",
    "\n",
    "            test_loss /= len(test_loader)\n",
    "            test_errors.append(test_loss)\n",
    "        seeds_val_errors.append(val_errors)\n",
    "        seeds_test_errors.append(test_errors)\n",
    "\n",
    "\n",
    "    min_val = np.inf\n",
    "    for i in range (len(seeds_val_errors)):\n",
    "        for j in range(len(seeds_val_errors[i])):\n",
    "            if seeds_val_errors[i][j] < min_val:\n",
    "                min_val = seeds_val_errors[i][j]\n",
    "                min_val_epoch = j\n",
    "                min_val_seed = i\n",
    "\n",
    "    min_pair = [min_val, seeds_test_errors[min_val_seed][min_val_epoch]]\n",
    "    return min_pair\n",
    "\n",
    "\n",
    "\n",
    "\n",
    "\n"
   ]
  },
  {
   "cell_type": "code",
   "execution_count": 76,
   "metadata": {},
   "outputs": [
    {
     "name": "stdout",
     "output_type": "stream",
     "text": [
      "minimum pair [0.2073454052209854, 0.2533122509531677]\n"
     ]
    }
   ],
   "source": [
    "min_pair = train_and_val_by_seed([1,2,3,4,5])\n",
    "print(f'minimum pair {min_pair}')"
   ]
  }
 ],
 "metadata": {
  "kernelspec": {
   "display_name": "adl",
   "language": "python",
   "name": "python3"
  },
  "language_info": {
   "codemirror_mode": {
    "name": "ipython",
    "version": 3
   },
   "file_extension": ".py",
   "mimetype": "text/x-python",
   "name": "python",
   "nbconvert_exporter": "python",
   "pygments_lexer": "ipython3",
   "version": "3.10.10"
  },
  "orig_nbformat": 4
 },
 "nbformat": 4,
 "nbformat_minor": 2
}
