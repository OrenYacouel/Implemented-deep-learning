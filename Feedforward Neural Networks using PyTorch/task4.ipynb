{
 "cells": [
  {
   "cell_type": "code",
   "execution_count": 96,
   "metadata": {},
   "outputs": [],
   "source": [
    "import torch\n",
    "import torch.nn as nn\n",
    "import torchvision\n",
    "import torchvision.transforms as transforms\n",
    "import matplotlib.pyplot as plt\n",
    "import numpy as np\n",
    "from torch.utils.data import random_split\n",
    "import csv \n"
   ]
  },
  {
   "attachments": {},
   "cell_type": "markdown",
   "metadata": {},
   "source": [
    "Setups"
   ]
  },
  {
   "cell_type": "code",
   "execution_count": 97,
   "metadata": {},
   "outputs": [],
   "source": [
    "# default Hyperparameters\n",
    "input_size = 784\n",
    "hidden_size = 500\n",
    "num_classes = 10\n",
    "num_epochs = 5\n",
    "batch_size = 100\n",
    "learning_rate = 0.001\n",
    "\n",
    "# Setup device\n",
    "device = torch.device('cuda' if torch.cuda.is_available() else 'cpu')"
   ]
  },
  {
   "cell_type": "code",
   "execution_count": 98,
   "metadata": {},
   "outputs": [],
   "source": [
    "# Fully connected neural network\n",
    "class NeuralNet(nn.Module):\n",
    "    def __init__(self, input_size, hidden_size, num_classes):\n",
    "        super(NeuralNet, self).__init__()\n",
    "        self.fc1 = nn.Linear(input_size, hidden_size) \n",
    "        self.relu = nn.ReLU()\n",
    "        self.fc2 = nn.Linear(hidden_size, num_classes)  \n",
    "\n",
    "    def forward(self, x):\n",
    "        out = self.fc1(x)\n",
    "        out = self.relu(out)\n",
    "        out = self.fc2(out)\n",
    "        return out"
   ]
  },
  {
   "cell_type": "code",
   "execution_count": 99,
   "metadata": {},
   "outputs": [],
   "source": [
    "\n",
    "# MNIST dataset\n",
    "full_train_dataset = torchvision.datasets.MNIST(root='./data/',\n",
    "                                                train=True,\n",
    "                                                transform=transforms.ToTensor(),\n",
    "                                                download=True)\n",
    "full_test_dataset = torchvision.datasets.MNIST(root='./data/',\n",
    "                                               train=False,\n",
    "                                               transform=transforms.ToTensor())"
   ]
  },
  {
   "attachments": {},
   "cell_type": "markdown",
   "metadata": {},
   "source": [
    "Methods"
   ]
  },
  {
   "cell_type": "code",
   "execution_count": 100,
   "metadata": {},
   "outputs": [],
   "source": [
    "# parameters : train_subset_size, test_subset_size\n",
    "# return train, test datasets\n",
    "def load_data_set(batch_size=batch_size ,train_subset_size=6000,test_subset_size=6000, seed=None, validation=False):\n",
    "    \n",
    "    if seed!=None:\n",
    "        torch.manual_seed(seed)\n",
    "\n",
    "    # Create subsets of train and test datasets\n",
    "    train_subset = torch.utils.data.Subset(full_train_dataset, range(train_subset_size))\n",
    "    test_subset = torch.utils.data.Subset(full_test_dataset, range(test_subset_size))\n",
    "\n",
    "    # Data loaders\n",
    "    train_loader = torch.utils.data.DataLoader(dataset=train_subset,\n",
    "                                                batch_size=batch_size,\n",
    "                                                shuffle=True)\n",
    "    test_loader = torch.utils.data.DataLoader(dataset=test_subset,\n",
    "                                                batch_size=batch_size,\n",
    "                                                shuffle=False)\n",
    "    \n",
    "    if validation:\n",
    "        train_dataset, val_dataset = random_split(train_subset, [5000, 1000])\n",
    "        validation_loader = torch.utils.data.DataLoader(dataset=val_dataset,\n",
    "                                            batch_size=batch_size, shuffle=True)\n",
    "        train_loader = torch.utils.data.DataLoader(dataset=train_dataset,\n",
    "                                                    batch_size=batch_size,\n",
    "                                                    shuffle=True)\n",
    "        return train_loader, test_loader, validation_loader\n",
    "    \n",
    "    return train_loader, test_loader"
   ]
  },
  {
   "cell_type": "code",
   "execution_count": 101,
   "metadata": {},
   "outputs": [],
   "source": [
    "def create_model_and_train(model, train_loader, test_loader, val_loader, num_epochs=5):\n",
    "    \n",
    "\n",
    "    criterion = nn.CrossEntropyLoss()\n",
    "    optimizer = torch.optim.Adam(model.parameters(), lr=learning_rate)\n",
    "\n",
    "    # Train the model\n",
    "    train_loss_per_epoch = []\n",
    "    test_loss_per_epoch = []\n",
    "    val_loss_per_epoch = []\n",
    "    for epoch in range(num_epochs):\n",
    "        # Train\n",
    "        train_loss = 0\n",
    "        for i, (images, labels) in enumerate(train_loader):\n",
    "            images = images.reshape(-1, input_size).to(device)\n",
    "            labels = labels.to(device)\n",
    "\n",
    "            outputs = model(images)\n",
    "            loss = criterion(outputs, labels)\n",
    "\n",
    "            optimizer.zero_grad()\n",
    "            loss.backward()\n",
    "            optimizer.step()\n",
    "\n",
    "            train_loss += loss.item()\n",
    "\n",
    "        train_loss /= len(train_loader)\n",
    "        train_loss_per_epoch.append(train_loss)\n",
    "        \n",
    "        # Validate\n",
    "        val_loss = 0\n",
    "        with torch.no_grad():\n",
    "            for images, labels in val_loader:\n",
    "                images = images.reshape(-1, input_size).to(device)\n",
    "                labels = labels.to(device)\n",
    "                outputs = model(images)\n",
    "                loss = criterion(outputs, labels)\n",
    "                val_loss += loss.item()\n",
    "\n",
    "        val_loss /= len(val_loader)\n",
    "        val_loss_per_epoch.append(val_loss)\n",
    "\n",
    "        # Test\n",
    "        test_loss = 0\n",
    "        with torch.no_grad():\n",
    "            for images, labels in test_loader:\n",
    "                images = images.reshape(-1, input_size).to(device)\n",
    "                labels = labels.to(device)\n",
    "                outputs = model(images)\n",
    "                loss = criterion(outputs, labels)\n",
    "                test_loss += loss.item()\n",
    "\n",
    "        test_loss /= len(test_loader)\n",
    "        test_loss_per_epoch.append(test_loss)\n",
    "    train_loss_per_epoch = np.array(train_loss_per_epoch)\n",
    "    test_loss_per_epoch = np.array(test_loss_per_epoch)\n",
    "    val_loss_per_epoch = np.array(val_loss_per_epoch)\n",
    "    return train_loss_per_epoch, test_loss_per_epoch, val_loss_per_epoch  "
   ]
  },
  {
   "attachments": {},
   "cell_type": "markdown",
   "metadata": {},
   "source": [
    "Ex4"
   ]
  },
  {
   "cell_type": "code",
   "execution_count": 102,
   "metadata": {},
   "outputs": [],
   "source": [
    "def grid_search(hidden_sizes=[hidden_size], batch_sizes=[batch_size], learning_rates=[learning_rate], num_epochs=5):\n",
    "    \n",
    "    paramaters_loss = {}\n",
    "    iter = 0\n",
    "\n",
    "    for b_size in batch_sizes:\n",
    "            train_loader, test_loader, val_loader = load_data_set(batch_size=b_size,validation=True)\n",
    "            \n",
    "            for h_size in hidden_sizes:\n",
    "                \n",
    "                for l_rate in learning_rates:\n",
    "                    model = NeuralNet(input_size, hidden_size, num_classes).to(device)\n",
    "                    paramaters_loss[(b_size, h_size, l_rate)] = create_model_and_train(model, train_loader, test_loader,\n",
    "                                                                                        val_loader)[1:] #only val,test loss\n",
    "                    iter +=1\n",
    "    return paramaters_loss"
   ]
  },
  {
   "cell_type": "code",
   "execution_count": 103,
   "metadata": {},
   "outputs": [],
   "source": [
    "hidden_sizes = [400, 500, 600]\n",
    "batch_sizes = [100, 200, 300]\n",
    "learning_rates = [0.01, 0.001]\n"
   ]
  },
  {
   "cell_type": "code",
   "execution_count": null,
   "metadata": {},
   "outputs": [],
   "source": [
    "parameters_loss = grid_search(hidden_sizes, batch_sizes, learning_rates)"
   ]
  },
  {
   "cell_type": "code",
   "execution_count": 105,
   "metadata": {},
   "outputs": [],
   "source": [
    "def min_validation_loss(test_loss, val_loss):\n",
    "    min_index = np.argmin(val_loss)\n",
    "    return test_loss[min_index], val_loss[min_index]"
   ]
  },
  {
   "cell_type": "code",
   "execution_count": 106,
   "metadata": {},
   "outputs": [],
   "source": [
    "s_grid = []\n",
    "fields = ['Batch Size', 'Hidden Size', 'Learning Rate', 'Best validation error', 'Test error for same epoch']\n",
    "for key in parameters_loss.keys():\n",
    "    b_size, h_size, l_rate = key\n",
    "    test_loss, val_loss = parameters_loss[key]\n",
    "    test_loss, val_loss = min_validation_loss(test_loss, val_loss)\n",
    "    s_grid.append({'Batch Size':str(b_size),\n",
    "                   'Hidden Size':str(h_size),\n",
    "                   'Learning Rate': str(l_rate),\n",
    "                   'Best validation error': str(val_loss),\n",
    "                   'Test error for same epoch':str(test_loss)})\n",
    "\n",
    "# writing to the CSV file\n",
    "with open('search grid.csv', 'w', newline='') as csvfile:\n",
    "    # creating a csv dict writer object\n",
    "    writer = csv.DictWriter(csvfile, fieldnames=fields)\n",
    "    \n",
    "    # writing headers (field names)\n",
    "    writer.writeheader()\n",
    "    \n",
    "    # writing rows (dictionary values)\n",
    "    for row in s_grid:\n",
    "        writer.writerow(row)\n",
    "    \n",
    "    "
   ]
  }
 ],
 "metadata": {
  "kernelspec": {
   "display_name": "adl",
   "language": "python",
   "name": "python3"
  },
  "language_info": {
   "codemirror_mode": {
    "name": "ipython",
    "version": 3
   },
   "file_extension": ".py",
   "mimetype": "text/x-python",
   "name": "python",
   "nbconvert_exporter": "python",
   "pygments_lexer": "ipython3",
   "version": "3.10.10"
  },
  "orig_nbformat": 4
 },
 "nbformat": 4,
 "nbformat_minor": 2
}
